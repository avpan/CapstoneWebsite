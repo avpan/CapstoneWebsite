{
 "cells": [
  {
   "cell_type": "code",
   "execution_count": 67,
   "metadata": {
    "collapsed": true
   },
   "outputs": [],
   "source": [
    "import numpy as np\n",
    "from bokeh.layouts import gridplot\n",
    "from bokeh.plotting import figure, show, output_file\n",
    "from bokeh.io import output_notebook\n",
    "import pandas\n",
    "import csv\n",
    "import os"
   ]
  },
  {
   "cell_type": "code",
   "execution_count": 74,
   "metadata": {
    "collapsed": false
   },
   "outputs": [
    {
     "name": "stdout",
     "output_type": "stream",
     "text": [
      "Match 272 no longer than 20 min\n",
      "Match 835 no longer than 20 min\n"
     ]
    }
   ],
   "source": [
    "N = 1000 #number of test matches\n",
    "gold_diff = []\n",
    "time_length = []\n",
    "for i in range(1,N+1):\n",
    "    try:\n",
    "            filepath_winner = './data/csv_winner/data_match%d.csv'% i\n",
    "            filepath_loser = './data/csv_loser/data_match%d.csv'% i\n",
    "            if os.path.isfile(filepath_winner) and os.path.isfile(filepath_loser):\n",
    "                match_info_winner = pandas.read_csv(filepath_winner)\n",
    "                match_info_loser = pandas.read_csv(filepath_loser)\n",
    "                time_length.append(len(match_info_winner['Time']))\n",
    "                #find the gold for loser/winners of team at 20 min and then find difference\n",
    "                gold_winner = match_info_winner['Total Gold'].loc[20]\n",
    "                gold_loser = match_info_loser['Total Gold'].loc[20]\n",
    "                gold_diff.append(gold_winner-gold_loser)\n",
    "    except:\n",
    "        print 'Match %d no longer than 20 min' % i\n",
    "            \n",
    "   "
   ]
  },
  {
   "cell_type": "code",
   "execution_count": 4,
   "metadata": {
    "collapsed": false
   },
   "outputs": [
    {
     "data": {
      "text/html": [
       "\n",
       "    <div class=\"bk-root\">\n",
       "        <a href=\"http://bokeh.pydata.org\" target=\"_blank\" class=\"bk-logo bk-logo-small bk-logo-notebook\"></a>\n",
       "        <span id=\"12cdf805-2425-46c9-8312-839276529058\">Loading BokehJS ...</span>\n",
       "    </div>"
      ]
     },
     "metadata": {},
     "output_type": "display_data"
    },
    {
     "data": {
      "application/javascript": [
       "\n",
       "(function(global) {\n",
       "  function now() {\n",
       "    return new Date();\n",
       "  }\n",
       "\n",
       "  if (typeof (window._bokeh_onload_callbacks) === \"undefined\") {\n",
       "    window._bokeh_onload_callbacks = [];\n",
       "  }\n",
       "\n",
       "  function run_callbacks() {\n",
       "    window._bokeh_onload_callbacks.forEach(function(callback) { callback() });\n",
       "    delete window._bokeh_onload_callbacks\n",
       "    console.info(\"Bokeh: all callbacks have finished\");\n",
       "  }\n",
       "\n",
       "  function load_libs(js_urls, callback) {\n",
       "    window._bokeh_onload_callbacks.push(callback);\n",
       "    if (window._bokeh_is_loading > 0) {\n",
       "      console.log(\"Bokeh: BokehJS is being loaded, scheduling callback at\", now());\n",
       "      return null;\n",
       "    }\n",
       "    if (js_urls == null || js_urls.length === 0) {\n",
       "      run_callbacks();\n",
       "      return null;\n",
       "    }\n",
       "    console.log(\"Bokeh: BokehJS not loaded, scheduling load and callback at\", now());\n",
       "    window._bokeh_is_loading = js_urls.length;\n",
       "    for (var i = 0; i < js_urls.length; i++) {\n",
       "      var url = js_urls[i];\n",
       "      var s = document.createElement('script');\n",
       "      s.src = url;\n",
       "      s.async = false;\n",
       "      s.onreadystatechange = s.onload = function() {\n",
       "        window._bokeh_is_loading--;\n",
       "        if (window._bokeh_is_loading === 0) {\n",
       "          console.log(\"Bokeh: all BokehJS libraries loaded\");\n",
       "          run_callbacks()\n",
       "        }\n",
       "      };\n",
       "      s.onerror = function() {\n",
       "        console.warn(\"failed to load library \" + url);\n",
       "      };\n",
       "      console.log(\"Bokeh: injecting script tag for BokehJS library: \", url);\n",
       "      document.getElementsByTagName(\"head\")[0].appendChild(s);\n",
       "    }\n",
       "  };\n",
       "\n",
       "  var js_urls = ['https://cdn.pydata.org/bokeh/release/bokeh-0.12.0.min.js', 'https://cdn.pydata.org/bokeh/release/bokeh-widgets-0.12.0.min.js', 'https://cdn.pydata.org/bokeh/release/bokeh-compiler-0.12.0.min.js'];\n",
       "\n",
       "  var inline_js = [\n",
       "    function(Bokeh) {\n",
       "      Bokeh.set_log_level(\"info\");\n",
       "    },\n",
       "    \n",
       "    function(Bokeh) {\n",
       "      Bokeh.$(\"#12cdf805-2425-46c9-8312-839276529058\").text(\"BokehJS successfully loaded\");\n",
       "    },\n",
       "    function(Bokeh) {\n",
       "      console.log(\"Bokeh: injecting CSS: https://cdn.pydata.org/bokeh/release/bokeh-0.12.0.min.css\");\n",
       "      Bokeh.embed.inject_css(\"https://cdn.pydata.org/bokeh/release/bokeh-0.12.0.min.css\");\n",
       "      console.log(\"Bokeh: injecting CSS: https://cdn.pydata.org/bokeh/release/bokeh-widgets-0.12.0.min.css\");\n",
       "      Bokeh.embed.inject_css(\"https://cdn.pydata.org/bokeh/release/bokeh-widgets-0.12.0.min.css\");\n",
       "    }\n",
       "  ];\n",
       "\n",
       "  function run_inline_js() {\n",
       "    for (var i = 0; i < inline_js.length; i++) {\n",
       "      inline_js[i](window.Bokeh);\n",
       "    }\n",
       "  }\n",
       "\n",
       "  if (window._bokeh_is_loading === 0) {\n",
       "    console.log(\"Bokeh: BokehJS loaded, going straight to plotting\");\n",
       "    run_inline_js();\n",
       "  } else {\n",
       "    load_libs(js_urls, function() {\n",
       "      console.log(\"Bokeh: BokehJS plotting callback run at\", now());\n",
       "      run_inline_js();\n",
       "    });\n",
       "  }\n",
       "}(this));"
      ]
     },
     "metadata": {},
     "output_type": "display_data"
    }
   ],
   "source": [
    "output_notebook()"
   ]
  },
  {
   "cell_type": "code",
   "execution_count": 75,
   "metadata": {
    "collapsed": false
   },
   "outputs": [
    {
     "name": "stdout",
     "output_type": "stream",
     "text": [
      "gold_mu = 3748.92 and gold_sig = 4552.85\n",
      "time_mu = 35.61 and time_sig = 7.78\n"
     ]
    }
   ],
   "source": [
    "print 'gold_mu = %.2f and gold_sig = %.2f' % (np.mean(gold_diff),np.std(gold_diff))\n",
    "print 'time_mu = %.2f and time_sig = %.2f' % (np.mean(time_length),np.std(time_length))"
   ]
  },
  {
   "cell_type": "code",
   "execution_count": 62,
   "metadata": {
    "collapsed": false
   },
   "outputs": [],
   "source": [
    "binwidth = 50\n",
    "p = figure(title=\"Average Game Length Distribution(μ=37.6, σ=7.8)\",plot_width=400, plot_height=400)\n",
    "hist,edges = np.histogram(time_length,bins=binwidth)\n",
    "p.quad(top=hist, bottom=0, left=edges[:-1], right=edges[1:],\n",
    "        fill_color=\"#036564\", line_color=\"#033649\")\n",
    "p.xaxis.axis_label = 'Game Length (minutes)'\n",
    "p.yaxis.axis_label = 'N'"
   ]
  },
  {
   "cell_type": "code",
   "execution_count": 63,
   "metadata": {
    "collapsed": true
   },
   "outputs": [],
   "source": [
    "output_file('histogram_gametime.html')"
   ]
  },
  {
   "cell_type": "code",
   "execution_count": 64,
   "metadata": {
    "collapsed": false
   },
   "outputs": [
    {
     "data": {
      "text/html": [
       "\n",
       "\n",
       "    <div class=\"bk-root\">\n",
       "        <div class=\"plotdiv\" id=\"1403d08b-dc60-42d1-a6fb-e7f971fabd0d\"></div>\n",
       "    </div>\n",
       "<script type=\"text/javascript\">\n",
       "  \n",
       "  (function(global) {\n",
       "    function now() {\n",
       "      return new Date();\n",
       "    }\n",
       "  \n",
       "    if (typeof (window._bokeh_onload_callbacks) === \"undefined\") {\n",
       "      window._bokeh_onload_callbacks = [];\n",
       "    }\n",
       "  \n",
       "    function run_callbacks() {\n",
       "      window._bokeh_onload_callbacks.forEach(function(callback) { callback() });\n",
       "      delete window._bokeh_onload_callbacks\n",
       "      console.info(\"Bokeh: all callbacks have finished\");\n",
       "    }\n",
       "  \n",
       "    function load_libs(js_urls, callback) {\n",
       "      window._bokeh_onload_callbacks.push(callback);\n",
       "      if (window._bokeh_is_loading > 0) {\n",
       "        console.log(\"Bokeh: BokehJS is being loaded, scheduling callback at\", now());\n",
       "        return null;\n",
       "      }\n",
       "      if (js_urls == null || js_urls.length === 0) {\n",
       "        run_callbacks();\n",
       "        return null;\n",
       "      }\n",
       "      console.log(\"Bokeh: BokehJS not loaded, scheduling load and callback at\", now());\n",
       "      window._bokeh_is_loading = js_urls.length;\n",
       "      for (var i = 0; i < js_urls.length; i++) {\n",
       "        var url = js_urls[i];\n",
       "        var s = document.createElement('script');\n",
       "        s.src = url;\n",
       "        s.async = false;\n",
       "        s.onreadystatechange = s.onload = function() {\n",
       "          window._bokeh_is_loading--;\n",
       "          if (window._bokeh_is_loading === 0) {\n",
       "            console.log(\"Bokeh: all BokehJS libraries loaded\");\n",
       "            run_callbacks()\n",
       "          }\n",
       "        };\n",
       "        s.onerror = function() {\n",
       "          console.warn(\"failed to load library \" + url);\n",
       "        };\n",
       "        console.log(\"Bokeh: injecting script tag for BokehJS library: \", url);\n",
       "        document.getElementsByTagName(\"head\")[0].appendChild(s);\n",
       "      }\n",
       "    };var element = document.getElementById(\"1403d08b-dc60-42d1-a6fb-e7f971fabd0d\");\n",
       "    if (element == null) {\n",
       "      console.log(\"Bokeh: ERROR: autoload.js configured with elementid '1403d08b-dc60-42d1-a6fb-e7f971fabd0d' but no matching script tag was found. \")\n",
       "      return false;\n",
       "    }\n",
       "  \n",
       "    var js_urls = [];\n",
       "  \n",
       "    var inline_js = [\n",
       "      function(Bokeh) {\n",
       "        Bokeh.$(function() {\n",
       "            var docs_json = {\"a79bf166-fa44-4df0-967f-126f61514fd6\":{\"roots\":{\"references\":[{\"attributes\":{\"bottom\":{\"value\":0},\"fill_alpha\":{\"value\":0.1},\"fill_color\":{\"value\":\"#1f77b4\"},\"left\":{\"field\":\"left\"},\"line_alpha\":{\"value\":0.1},\"line_color\":{\"value\":\"#1f77b4\"},\"right\":{\"field\":\"right\"},\"top\":{\"field\":\"top\"}},\"id\":\"962fa82a-b90f-4da9-9e71-30300396e126\",\"type\":\"Quad\"},{\"attributes\":{\"plot\":{\"id\":\"649f0b5d-4859-4655-af0c-6038436cb3be\",\"subtype\":\"Figure\",\"type\":\"Plot\"}},\"id\":\"a8c0efaa-ae9b-4b05-8b1c-d031410721c1\",\"type\":\"HelpTool\"},{\"attributes\":{\"callback\":null,\"column_names\":[\"right\",\"top\",\"left\"],\"data\":{\"left\":[18.0,18.94,19.88,20.82,21.759999999999998,22.7,23.64,24.58,25.52,26.46,27.4,28.34,29.28,30.22,31.16,32.1,33.04,33.98,34.92,35.86,36.8,37.739999999999995,38.68,39.62,40.56,41.5,42.44,43.379999999999995,44.32,45.26,46.2,47.14,48.08,49.019999999999996,49.959999999999994,50.9,51.839999999999996,52.78,53.72,54.66,55.599999999999994,56.54,57.48,58.419999999999995,59.36,60.3,61.239999999999995,62.18,63.12,64.06],\"right\":[18.94,19.88,20.82,21.759999999999998,22.7,23.64,24.58,25.52,26.46,27.4,28.34,29.28,30.22,31.16,32.1,33.04,33.98,34.92,35.86,36.8,37.739999999999995,38.68,39.62,40.56,41.5,42.44,43.379999999999995,44.32,45.26,46.2,47.14,48.08,49.019999999999996,49.959999999999994,50.9,51.839999999999996,52.78,53.72,54.66,55.599999999999994,56.54,57.48,58.419999999999995,59.36,60.3,61.239999999999995,62.18,63.12,64.06,65.0],\"top\":[1,0,1,4,35,20,10,11,17,24,20,25,22,35,35,41,0,45,34,44,37,42,36,36,31,24,24,22,14,8,21,7,8,0,9,6,1,3,0,2,4,0,0,0,1,1,0,3,0,1]}},\"id\":\"330c53bd-fe2b-44ee-8cc2-71e7d62a115b\",\"type\":\"ColumnDataSource\"},{\"attributes\":{\"plot\":{\"id\":\"649f0b5d-4859-4655-af0c-6038436cb3be\",\"subtype\":\"Figure\",\"type\":\"Plot\"}},\"id\":\"6b3735f7-ff6f-4b81-904a-9621b669cfc7\",\"type\":\"SaveTool\"},{\"attributes\":{\"plot\":{\"id\":\"649f0b5d-4859-4655-af0c-6038436cb3be\",\"subtype\":\"Figure\",\"type\":\"Plot\"}},\"id\":\"1fdbadd7-2265-4be8-a764-a690a348c5f7\",\"type\":\"WheelZoomTool\"},{\"attributes\":{},\"id\":\"8e24cd09-f073-4594-b469-00877bd029e0\",\"type\":\"BasicTicker\"},{\"attributes\":{},\"id\":\"53a2d9c0-205c-458d-be34-0f24a728cd52\",\"type\":\"BasicTicker\"},{\"attributes\":{\"dimension\":1,\"plot\":{\"id\":\"649f0b5d-4859-4655-af0c-6038436cb3be\",\"subtype\":\"Figure\",\"type\":\"Plot\"},\"ticker\":{\"id\":\"8e24cd09-f073-4594-b469-00877bd029e0\",\"type\":\"BasicTicker\"}},\"id\":\"8521ee0d-a1d4-4452-a706-0e4fad0ca1c8\",\"type\":\"Grid\"},{\"attributes\":{\"axis_label\":\"N\",\"formatter\":{\"id\":\"649fac5e-200f-43db-b0af-fd4dee98cfcf\",\"type\":\"BasicTickFormatter\"},\"plot\":{\"id\":\"649f0b5d-4859-4655-af0c-6038436cb3be\",\"subtype\":\"Figure\",\"type\":\"Plot\"},\"ticker\":{\"id\":\"8e24cd09-f073-4594-b469-00877bd029e0\",\"type\":\"BasicTicker\"}},\"id\":\"37c369c3-7252-432d-8d70-fb71122bb740\",\"type\":\"LinearAxis\"},{\"attributes\":{\"bottom_units\":\"screen\",\"fill_alpha\":{\"value\":0.5},\"fill_color\":{\"value\":\"lightgrey\"},\"left_units\":\"screen\",\"level\":\"overlay\",\"line_alpha\":{\"value\":1.0},\"line_color\":{\"value\":\"black\"},\"line_dash\":[4,4],\"line_width\":{\"value\":2},\"plot\":null,\"render_mode\":\"css\",\"right_units\":\"screen\",\"top_units\":\"screen\"},\"id\":\"1cec958c-2938-4174-b68b-b3b3e713a081\",\"type\":\"BoxAnnotation\"},{\"attributes\":{\"active_drag\":\"auto\",\"active_scroll\":\"auto\",\"active_tap\":\"auto\",\"tools\":[{\"id\":\"d6b66842-a62d-4532-9459-8b31b1366d37\",\"type\":\"PanTool\"},{\"id\":\"1fdbadd7-2265-4be8-a764-a690a348c5f7\",\"type\":\"WheelZoomTool\"},{\"id\":\"857826fc-999a-429a-8b56-18542fdf55db\",\"type\":\"BoxZoomTool\"},{\"id\":\"6b3735f7-ff6f-4b81-904a-9621b669cfc7\",\"type\":\"SaveTool\"},{\"id\":\"ef99c9f7-3b3d-421a-8ce7-6968a8770a95\",\"type\":\"ResetTool\"},{\"id\":\"a8c0efaa-ae9b-4b05-8b1c-d031410721c1\",\"type\":\"HelpTool\"}]},\"id\":\"1ec8e269-34fe-4394-affa-6fcbd2c8effd\",\"type\":\"Toolbar\"},{\"attributes\":{\"callback\":null},\"id\":\"11636533-e71c-4bbd-b3dc-7fe54c215a0c\",\"type\":\"DataRange1d\"},{\"attributes\":{\"plot\":{\"id\":\"649f0b5d-4859-4655-af0c-6038436cb3be\",\"subtype\":\"Figure\",\"type\":\"Plot\"}},\"id\":\"d6b66842-a62d-4532-9459-8b31b1366d37\",\"type\":\"PanTool\"},{\"attributes\":{},\"id\":\"df411847-a79f-4a6a-9c0e-631b48c97214\",\"type\":\"ToolEvents\"},{\"attributes\":{\"plot\":{\"id\":\"649f0b5d-4859-4655-af0c-6038436cb3be\",\"subtype\":\"Figure\",\"type\":\"Plot\"}},\"id\":\"ef99c9f7-3b3d-421a-8ce7-6968a8770a95\",\"type\":\"ResetTool\"},{\"attributes\":{\"below\":[{\"id\":\"3c0ce624-4a82-4902-9035-5c0bd7ca2890\",\"type\":\"LinearAxis\"}],\"left\":[{\"id\":\"37c369c3-7252-432d-8d70-fb71122bb740\",\"type\":\"LinearAxis\"}],\"plot_height\":400,\"plot_width\":400,\"renderers\":[{\"id\":\"3c0ce624-4a82-4902-9035-5c0bd7ca2890\",\"type\":\"LinearAxis\"},{\"id\":\"90ec54b5-85c9-4b50-aa1d-64bf8b3bb0a1\",\"type\":\"Grid\"},{\"id\":\"37c369c3-7252-432d-8d70-fb71122bb740\",\"type\":\"LinearAxis\"},{\"id\":\"8521ee0d-a1d4-4452-a706-0e4fad0ca1c8\",\"type\":\"Grid\"},{\"id\":\"1cec958c-2938-4174-b68b-b3b3e713a081\",\"type\":\"BoxAnnotation\"},{\"id\":\"589ac07b-f38c-4db0-91ae-377f0a3db06a\",\"type\":\"GlyphRenderer\"}],\"title\":{\"id\":\"b7754900-3ad8-4c4a-b481-43e1922ae8b0\",\"type\":\"Title\"},\"tool_events\":{\"id\":\"df411847-a79f-4a6a-9c0e-631b48c97214\",\"type\":\"ToolEvents\"},\"toolbar\":{\"id\":\"1ec8e269-34fe-4394-affa-6fcbd2c8effd\",\"type\":\"Toolbar\"},\"x_range\":{\"id\":\"11636533-e71c-4bbd-b3dc-7fe54c215a0c\",\"type\":\"DataRange1d\"},\"y_range\":{\"id\":\"d496ff31-d8b1-4fa3-bcb2-825d69fcdc65\",\"type\":\"DataRange1d\"}},\"id\":\"649f0b5d-4859-4655-af0c-6038436cb3be\",\"subtype\":\"Figure\",\"type\":\"Plot\"},{\"attributes\":{\"plot\":{\"id\":\"649f0b5d-4859-4655-af0c-6038436cb3be\",\"subtype\":\"Figure\",\"type\":\"Plot\"},\"ticker\":{\"id\":\"53a2d9c0-205c-458d-be34-0f24a728cd52\",\"type\":\"BasicTicker\"}},\"id\":\"90ec54b5-85c9-4b50-aa1d-64bf8b3bb0a1\",\"type\":\"Grid\"},{\"attributes\":{\"bottom\":{\"value\":0},\"fill_color\":{\"value\":\"#036564\"},\"left\":{\"field\":\"left\"},\"line_color\":{\"value\":\"#033649\"},\"right\":{\"field\":\"right\"},\"top\":{\"field\":\"top\"}},\"id\":\"d1074f34-808a-46c5-a67d-7bdf10698cb7\",\"type\":\"Quad\"},{\"attributes\":{},\"id\":\"649fac5e-200f-43db-b0af-fd4dee98cfcf\",\"type\":\"BasicTickFormatter\"},{\"attributes\":{\"data_source\":{\"id\":\"330c53bd-fe2b-44ee-8cc2-71e7d62a115b\",\"type\":\"ColumnDataSource\"},\"glyph\":{\"id\":\"d1074f34-808a-46c5-a67d-7bdf10698cb7\",\"type\":\"Quad\"},\"hover_glyph\":null,\"nonselection_glyph\":{\"id\":\"962fa82a-b90f-4da9-9e71-30300396e126\",\"type\":\"Quad\"},\"selection_glyph\":null},\"id\":\"589ac07b-f38c-4db0-91ae-377f0a3db06a\",\"type\":\"GlyphRenderer\"},{\"attributes\":{\"axis_label\":\"Game Length (minutes)\",\"formatter\":{\"id\":\"1a399522-714e-49b1-b102-0c9fbfa50082\",\"type\":\"BasicTickFormatter\"},\"plot\":{\"id\":\"649f0b5d-4859-4655-af0c-6038436cb3be\",\"subtype\":\"Figure\",\"type\":\"Plot\"},\"ticker\":{\"id\":\"53a2d9c0-205c-458d-be34-0f24a728cd52\",\"type\":\"BasicTicker\"}},\"id\":\"3c0ce624-4a82-4902-9035-5c0bd7ca2890\",\"type\":\"LinearAxis\"},{\"attributes\":{\"overlay\":{\"id\":\"1cec958c-2938-4174-b68b-b3b3e713a081\",\"type\":\"BoxAnnotation\"},\"plot\":{\"id\":\"649f0b5d-4859-4655-af0c-6038436cb3be\",\"subtype\":\"Figure\",\"type\":\"Plot\"}},\"id\":\"857826fc-999a-429a-8b56-18542fdf55db\",\"type\":\"BoxZoomTool\"},{\"attributes\":{},\"id\":\"1a399522-714e-49b1-b102-0c9fbfa50082\",\"type\":\"BasicTickFormatter\"},{\"attributes\":{\"callback\":null},\"id\":\"d496ff31-d8b1-4fa3-bcb2-825d69fcdc65\",\"type\":\"DataRange1d\"},{\"attributes\":{\"plot\":null,\"text\":\"Average Game Length Distribution(\\u03bc=37.6, \\u03c3=7.8)\"},\"id\":\"b7754900-3ad8-4c4a-b481-43e1922ae8b0\",\"type\":\"Title\"}],\"root_ids\":[\"649f0b5d-4859-4655-af0c-6038436cb3be\"]},\"title\":\"Bokeh Application\",\"version\":\"0.12.0\"}};\n",
       "            var render_items = [{\"docid\":\"a79bf166-fa44-4df0-967f-126f61514fd6\",\"elementid\":\"1403d08b-dc60-42d1-a6fb-e7f971fabd0d\",\"modelid\":\"649f0b5d-4859-4655-af0c-6038436cb3be\",\"notebook_comms_target\":\"f0abf9ea-aeb4-450d-8e63-e5b765774892\"}];\n",
       "            \n",
       "            Bokeh.embed.embed_items(docs_json, render_items);\n",
       "        });\n",
       "      },\n",
       "      function(Bokeh) {\n",
       "      }\n",
       "    ];\n",
       "  \n",
       "    function run_inline_js() {\n",
       "      for (var i = 0; i < inline_js.length; i++) {\n",
       "        inline_js[i](window.Bokeh);\n",
       "      }\n",
       "    }\n",
       "  \n",
       "    if (window._bokeh_is_loading === 0) {\n",
       "      console.log(\"Bokeh: BokehJS loaded, going straight to plotting\");\n",
       "      run_inline_js();\n",
       "    } else {\n",
       "      load_libs(js_urls, function() {\n",
       "        console.log(\"Bokeh: BokehJS plotting callback run at\", now());\n",
       "        run_inline_js();\n",
       "      });\n",
       "    }\n",
       "  }(this));\n",
       "</script>"
      ]
     },
     "metadata": {},
     "output_type": "display_data"
    },
    {
     "data": {
      "text/html": [
       "<p><code>&lt;Bokeh Notebook handle for <strong>In[64]</strong>&gt;</code></p>"
      ],
      "text/plain": [
       "<bokeh.io._CommsHandle at 0x1124b1c10>"
      ]
     },
     "execution_count": 64,
     "metadata": {},
     "output_type": "execute_result"
    }
   ],
   "source": [
    "show(p)"
   ]
  },
  {
   "cell_type": "code",
   "execution_count": 79,
   "metadata": {
    "collapsed": false
   },
   "outputs": [],
   "source": [
    "binwidth = 50\n",
    "mu, sigma = 0,.5\n",
    "p = figure(title=\"Gold Difference Distribution(μ=3748, σ=4553)\",plot_width=400, plot_height=400)\n",
    "hist,edges = np.histogram(gold_diff,bins=binwidth)\n",
    "p.quad(top=hist, bottom=0, left=edges[:-1], right=edges[1:],\n",
    "        fill_color=\"#036564\", line_color=\"#033649\")\n",
    "p.xaxis.axis_label = 'Gold Difference'\n",
    "p.yaxis.axis_label = 'N'"
   ]
  },
  {
   "cell_type": "code",
   "execution_count": 80,
   "metadata": {
    "collapsed": true
   },
   "outputs": [],
   "source": [
    "output_file('histogram_golddiff.html')"
   ]
  },
  {
   "cell_type": "code",
   "execution_count": 81,
   "metadata": {
    "collapsed": false,
    "scrolled": true
   },
   "outputs": [
    {
     "data": {
      "text/html": [
       "\n",
       "\n",
       "    <div class=\"bk-root\">\n",
       "        <div class=\"plotdiv\" id=\"082418f3-2bbe-460c-bcc6-3b190f4c0fd2\"></div>\n",
       "    </div>\n",
       "<script type=\"text/javascript\">\n",
       "  \n",
       "  (function(global) {\n",
       "    function now() {\n",
       "      return new Date();\n",
       "    }\n",
       "  \n",
       "    if (typeof (window._bokeh_onload_callbacks) === \"undefined\") {\n",
       "      window._bokeh_onload_callbacks = [];\n",
       "    }\n",
       "  \n",
       "    function run_callbacks() {\n",
       "      window._bokeh_onload_callbacks.forEach(function(callback) { callback() });\n",
       "      delete window._bokeh_onload_callbacks\n",
       "      console.info(\"Bokeh: all callbacks have finished\");\n",
       "    }\n",
       "  \n",
       "    function load_libs(js_urls, callback) {\n",
       "      window._bokeh_onload_callbacks.push(callback);\n",
       "      if (window._bokeh_is_loading > 0) {\n",
       "        console.log(\"Bokeh: BokehJS is being loaded, scheduling callback at\", now());\n",
       "        return null;\n",
       "      }\n",
       "      if (js_urls == null || js_urls.length === 0) {\n",
       "        run_callbacks();\n",
       "        return null;\n",
       "      }\n",
       "      console.log(\"Bokeh: BokehJS not loaded, scheduling load and callback at\", now());\n",
       "      window._bokeh_is_loading = js_urls.length;\n",
       "      for (var i = 0; i < js_urls.length; i++) {\n",
       "        var url = js_urls[i];\n",
       "        var s = document.createElement('script');\n",
       "        s.src = url;\n",
       "        s.async = false;\n",
       "        s.onreadystatechange = s.onload = function() {\n",
       "          window._bokeh_is_loading--;\n",
       "          if (window._bokeh_is_loading === 0) {\n",
       "            console.log(\"Bokeh: all BokehJS libraries loaded\");\n",
       "            run_callbacks()\n",
       "          }\n",
       "        };\n",
       "        s.onerror = function() {\n",
       "          console.warn(\"failed to load library \" + url);\n",
       "        };\n",
       "        console.log(\"Bokeh: injecting script tag for BokehJS library: \", url);\n",
       "        document.getElementsByTagName(\"head\")[0].appendChild(s);\n",
       "      }\n",
       "    };var element = document.getElementById(\"082418f3-2bbe-460c-bcc6-3b190f4c0fd2\");\n",
       "    if (element == null) {\n",
       "      console.log(\"Bokeh: ERROR: autoload.js configured with elementid '082418f3-2bbe-460c-bcc6-3b190f4c0fd2' but no matching script tag was found. \")\n",
       "      return false;\n",
       "    }\n",
       "  \n",
       "    var js_urls = [];\n",
       "  \n",
       "    var inline_js = [\n",
       "      function(Bokeh) {\n",
       "        Bokeh.$(function() {\n",
       "            var docs_json = {\"531bec99-aa4d-4370-9519-5c4fbd300c77\":{\"roots\":{\"references\":[{\"attributes\":{\"callback\":null},\"id\":\"953bad3b-d9a7-4bdd-9389-b1e4bd9f174e\",\"type\":\"DataRange1d\"},{\"attributes\":{\"bottom_units\":\"screen\",\"fill_alpha\":{\"value\":0.5},\"fill_color\":{\"value\":\"lightgrey\"},\"left_units\":\"screen\",\"level\":\"overlay\",\"line_alpha\":{\"value\":1.0},\"line_color\":{\"value\":\"black\"},\"line_dash\":[4,4],\"line_width\":{\"value\":2},\"plot\":null,\"render_mode\":\"css\",\"right_units\":\"screen\",\"top_units\":\"screen\"},\"id\":\"d8b675a0-bfc1-4f64-bbd9-1e5c7031ce75\",\"type\":\"BoxAnnotation\"},{\"attributes\":{},\"id\":\"938cd35d-06ae-461e-82b6-45dcce9481d9\",\"type\":\"BasicTickFormatter\"},{\"attributes\":{\"bottom\":{\"value\":0},\"fill_alpha\":{\"value\":0.1},\"fill_color\":{\"value\":\"#1f77b4\"},\"left\":{\"field\":\"left\"},\"line_alpha\":{\"value\":0.1},\"line_color\":{\"value\":\"#1f77b4\"},\"right\":{\"field\":\"right\"},\"top\":{\"field\":\"top\"}},\"id\":\"8c1c3324-7a43-420d-b9de-6c009107d867\",\"type\":\"Quad\"},{\"attributes\":{\"plot\":null,\"text\":\"Gold Difference Distribution(\\u03bc=3748, \\u03c3=4553)\"},\"id\":\"a7d9c5f6-5899-4c5d-8a05-104e5d37a161\",\"type\":\"Title\"},{\"attributes\":{\"plot\":{\"id\":\"8e2e2e11-2d31-4961-be31-e442c186d57b\",\"subtype\":\"Figure\",\"type\":\"Plot\"}},\"id\":\"57e1b844-3b1f-4238-84f5-5d10cb3c6fdd\",\"type\":\"WheelZoomTool\"},{\"attributes\":{\"bottom\":{\"value\":0},\"fill_color\":{\"value\":\"#036564\"},\"left\":{\"field\":\"left\"},\"line_color\":{\"value\":\"#033649\"},\"right\":{\"field\":\"right\"},\"top\":{\"field\":\"top\"}},\"id\":\"55618545-2e14-47a0-9fa0-49898c19c3df\",\"type\":\"Quad\"},{\"attributes\":{},\"id\":\"7bd35e4b-9396-4047-9073-e768ccc524a6\",\"type\":\"BasicTicker\"},{\"attributes\":{\"overlay\":{\"id\":\"d8b675a0-bfc1-4f64-bbd9-1e5c7031ce75\",\"type\":\"BoxAnnotation\"},\"plot\":{\"id\":\"8e2e2e11-2d31-4961-be31-e442c186d57b\",\"subtype\":\"Figure\",\"type\":\"Plot\"}},\"id\":\"0a4096d3-cda9-4bbe-a8ca-2d4dceff3201\",\"type\":\"BoxZoomTool\"},{\"attributes\":{\"callback\":null},\"id\":\"540723bd-b04e-4971-b0e6-1088050e73fb\",\"type\":\"DataRange1d\"},{\"attributes\":{\"dimension\":1,\"plot\":{\"id\":\"8e2e2e11-2d31-4961-be31-e442c186d57b\",\"subtype\":\"Figure\",\"type\":\"Plot\"},\"ticker\":{\"id\":\"7bd35e4b-9396-4047-9073-e768ccc524a6\",\"type\":\"BasicTicker\"}},\"id\":\"9197cf3d-7301-4fd0-8c72-baac334aa280\",\"type\":\"Grid\"},{\"attributes\":{\"plot\":{\"id\":\"8e2e2e11-2d31-4961-be31-e442c186d57b\",\"subtype\":\"Figure\",\"type\":\"Plot\"}},\"id\":\"60e7c2e9-10ae-44f5-bbeb-d011b883af15\",\"type\":\"ResetTool\"},{\"attributes\":{\"axis_label\":\"Gold Difference\",\"formatter\":{\"id\":\"938cd35d-06ae-461e-82b6-45dcce9481d9\",\"type\":\"BasicTickFormatter\"},\"plot\":{\"id\":\"8e2e2e11-2d31-4961-be31-e442c186d57b\",\"subtype\":\"Figure\",\"type\":\"Plot\"},\"ticker\":{\"id\":\"07ef5793-f7f0-4896-baac-5fb82b6f780a\",\"type\":\"BasicTicker\"}},\"id\":\"51d09348-2b88-4187-9077-e7b7378a79ee\",\"type\":\"LinearAxis\"},{\"attributes\":{},\"id\":\"07ef5793-f7f0-4896-baac-5fb82b6f780a\",\"type\":\"BasicTicker\"},{\"attributes\":{},\"id\":\"64897a6c-a1fa-446b-a68a-ad6d2312cb66\",\"type\":\"BasicTickFormatter\"},{\"attributes\":{\"plot\":{\"id\":\"8e2e2e11-2d31-4961-be31-e442c186d57b\",\"subtype\":\"Figure\",\"type\":\"Plot\"}},\"id\":\"3b22d0bb-6380-422a-9187-54c7619d027a\",\"type\":\"PanTool\"},{\"attributes\":{},\"id\":\"03f528a3-7300-4e79-969a-0a11761cc4aa\",\"type\":\"ToolEvents\"},{\"attributes\":{\"active_drag\":\"auto\",\"active_scroll\":\"auto\",\"active_tap\":\"auto\",\"tools\":[{\"id\":\"3b22d0bb-6380-422a-9187-54c7619d027a\",\"type\":\"PanTool\"},{\"id\":\"57e1b844-3b1f-4238-84f5-5d10cb3c6fdd\",\"type\":\"WheelZoomTool\"},{\"id\":\"0a4096d3-cda9-4bbe-a8ca-2d4dceff3201\",\"type\":\"BoxZoomTool\"},{\"id\":\"3811966a-e21e-4524-8c42-0ea433631ac9\",\"type\":\"SaveTool\"},{\"id\":\"60e7c2e9-10ae-44f5-bbeb-d011b883af15\",\"type\":\"ResetTool\"},{\"id\":\"d834e70f-ac06-43f2-af07-494a3dba1c72\",\"type\":\"HelpTool\"}]},\"id\":\"3b83742d-236d-47d6-978b-378bad7ece36\",\"type\":\"Toolbar\"},{\"attributes\":{\"plot\":{\"id\":\"8e2e2e11-2d31-4961-be31-e442c186d57b\",\"subtype\":\"Figure\",\"type\":\"Plot\"}},\"id\":\"3811966a-e21e-4524-8c42-0ea433631ac9\",\"type\":\"SaveTool\"},{\"attributes\":{\"plot\":{\"id\":\"8e2e2e11-2d31-4961-be31-e442c186d57b\",\"subtype\":\"Figure\",\"type\":\"Plot\"},\"ticker\":{\"id\":\"07ef5793-f7f0-4896-baac-5fb82b6f780a\",\"type\":\"BasicTicker\"}},\"id\":\"5c6e6a09-3ca4-404f-a656-4c25becd0b11\",\"type\":\"Grid\"},{\"attributes\":{\"axis_label\":\"N\",\"formatter\":{\"id\":\"64897a6c-a1fa-446b-a68a-ad6d2312cb66\",\"type\":\"BasicTickFormatter\"},\"plot\":{\"id\":\"8e2e2e11-2d31-4961-be31-e442c186d57b\",\"subtype\":\"Figure\",\"type\":\"Plot\"},\"ticker\":{\"id\":\"7bd35e4b-9396-4047-9073-e768ccc524a6\",\"type\":\"BasicTicker\"}},\"id\":\"d6ec3b42-a81f-4aeb-8527-bb2836de94a6\",\"type\":\"LinearAxis\"},{\"attributes\":{\"data_source\":{\"id\":\"e52af615-9d9f-402b-a1c4-7baf550d46c6\",\"type\":\"ColumnDataSource\"},\"glyph\":{\"id\":\"55618545-2e14-47a0-9fa0-49898c19c3df\",\"type\":\"Quad\"},\"hover_glyph\":null,\"nonselection_glyph\":{\"id\":\"8c1c3324-7a43-420d-b9de-6c009107d867\",\"type\":\"Quad\"},\"selection_glyph\":null},\"id\":\"c3731a0e-fa32-4b5c-9d5b-6c30d58ec567\",\"type\":\"GlyphRenderer\"},{\"attributes\":{\"plot\":{\"id\":\"8e2e2e11-2d31-4961-be31-e442c186d57b\",\"subtype\":\"Figure\",\"type\":\"Plot\"}},\"id\":\"d834e70f-ac06-43f2-af07-494a3dba1c72\",\"type\":\"HelpTool\"},{\"attributes\":{\"callback\":null,\"column_names\":[\"right\",\"top\",\"left\"],\"data\":{\"left\":[-7521.0,-6974.4400000000005,-6427.88,-5881.32,-5334.76,-4788.200000000001,-4241.64,-3695.0800000000004,-3148.5200000000004,-2601.960000000001,-2055.4000000000005,-1508.8400000000001,-962.2800000000007,-415.72000000000116,130.83999999999924,677.3999999999996,1223.9599999999991,1770.5199999999986,2317.079999999998,2863.6399999999994,3410.199999999999,3956.7599999999984,4503.32,5049.879999999999,5596.439999999999,6142.999999999998,6689.559999999998,7236.119999999999,7782.6799999999985,8329.239999999998,8875.8,9422.359999999997,9968.919999999998,10515.48,11062.039999999997,11608.599999999999,12155.159999999996,12701.719999999998,13248.279999999999,13794.839999999997,14341.399999999998,14887.96,15434.519999999997,15981.079999999998,16527.64,17074.199999999997,17620.76,18167.319999999996,18713.879999999997,19260.44],\"right\":[-6974.4400000000005,-6427.88,-5881.32,-5334.76,-4788.200000000001,-4241.64,-3695.0800000000004,-3148.5200000000004,-2601.960000000001,-2055.4000000000005,-1508.8400000000001,-962.2800000000007,-415.72000000000116,130.83999999999924,677.3999999999996,1223.9599999999991,1770.5199999999986,2317.079999999998,2863.6399999999994,3410.199999999999,3956.7599999999984,4503.32,5049.879999999999,5596.439999999999,6142.999999999998,6689.559999999998,7236.119999999999,7782.6799999999985,8329.239999999998,8875.8,9422.359999999997,9968.919999999998,10515.48,11062.039999999997,11608.599999999999,12155.159999999996,12701.719999999998,13248.279999999999,13794.839999999997,14341.399999999998,14887.96,15434.519999999997,15981.079999999998,16527.64,17074.199999999997,17620.76,18167.319999999996,18713.879999999997,19260.44,19807.0],\"top\":[3,6,1,7,6,13,7,10,10,14,14,29,20,13,26,48,34,36,42,29,37,35,31,33,32,21,27,30,21,18,29,14,15,13,10,6,7,3,0,3,2,2,1,2,2,0,0,0,0,1]}},\"id\":\"e52af615-9d9f-402b-a1c4-7baf550d46c6\",\"type\":\"ColumnDataSource\"},{\"attributes\":{\"below\":[{\"id\":\"51d09348-2b88-4187-9077-e7b7378a79ee\",\"type\":\"LinearAxis\"}],\"left\":[{\"id\":\"d6ec3b42-a81f-4aeb-8527-bb2836de94a6\",\"type\":\"LinearAxis\"}],\"plot_height\":400,\"plot_width\":400,\"renderers\":[{\"id\":\"51d09348-2b88-4187-9077-e7b7378a79ee\",\"type\":\"LinearAxis\"},{\"id\":\"5c6e6a09-3ca4-404f-a656-4c25becd0b11\",\"type\":\"Grid\"},{\"id\":\"d6ec3b42-a81f-4aeb-8527-bb2836de94a6\",\"type\":\"LinearAxis\"},{\"id\":\"9197cf3d-7301-4fd0-8c72-baac334aa280\",\"type\":\"Grid\"},{\"id\":\"d8b675a0-bfc1-4f64-bbd9-1e5c7031ce75\",\"type\":\"BoxAnnotation\"},{\"id\":\"c3731a0e-fa32-4b5c-9d5b-6c30d58ec567\",\"type\":\"GlyphRenderer\"}],\"title\":{\"id\":\"a7d9c5f6-5899-4c5d-8a05-104e5d37a161\",\"type\":\"Title\"},\"tool_events\":{\"id\":\"03f528a3-7300-4e79-969a-0a11761cc4aa\",\"type\":\"ToolEvents\"},\"toolbar\":{\"id\":\"3b83742d-236d-47d6-978b-378bad7ece36\",\"type\":\"Toolbar\"},\"x_range\":{\"id\":\"953bad3b-d9a7-4bdd-9389-b1e4bd9f174e\",\"type\":\"DataRange1d\"},\"y_range\":{\"id\":\"540723bd-b04e-4971-b0e6-1088050e73fb\",\"type\":\"DataRange1d\"}},\"id\":\"8e2e2e11-2d31-4961-be31-e442c186d57b\",\"subtype\":\"Figure\",\"type\":\"Plot\"}],\"root_ids\":[\"8e2e2e11-2d31-4961-be31-e442c186d57b\"]},\"title\":\"Bokeh Application\",\"version\":\"0.12.0\"}};\n",
       "            var render_items = [{\"docid\":\"531bec99-aa4d-4370-9519-5c4fbd300c77\",\"elementid\":\"082418f3-2bbe-460c-bcc6-3b190f4c0fd2\",\"modelid\":\"8e2e2e11-2d31-4961-be31-e442c186d57b\",\"notebook_comms_target\":\"da957ebb-9b85-4860-9f3f-cb372d2b21a3\"}];\n",
       "            \n",
       "            Bokeh.embed.embed_items(docs_json, render_items);\n",
       "        });\n",
       "      },\n",
       "      function(Bokeh) {\n",
       "      }\n",
       "    ];\n",
       "  \n",
       "    function run_inline_js() {\n",
       "      for (var i = 0; i < inline_js.length; i++) {\n",
       "        inline_js[i](window.Bokeh);\n",
       "      }\n",
       "    }\n",
       "  \n",
       "    if (window._bokeh_is_loading === 0) {\n",
       "      console.log(\"Bokeh: BokehJS loaded, going straight to plotting\");\n",
       "      run_inline_js();\n",
       "    } else {\n",
       "      load_libs(js_urls, function() {\n",
       "        console.log(\"Bokeh: BokehJS plotting callback run at\", now());\n",
       "        run_inline_js();\n",
       "      });\n",
       "    }\n",
       "  }(this));\n",
       "</script>"
      ]
     },
     "metadata": {},
     "output_type": "display_data"
    },
    {
     "data": {
      "text/html": [
       "<p><code>&lt;Bokeh Notebook handle for <strong>In[81]</strong>&gt;</code></p>"
      ],
      "text/plain": [
       "<bokeh.io._CommsHandle at 0x1126abd50>"
      ]
     },
     "execution_count": 81,
     "metadata": {},
     "output_type": "execute_result"
    }
   ],
   "source": [
    "show(p)"
   ]
  },
  {
   "cell_type": "code",
   "execution_count": null,
   "metadata": {
    "collapsed": true
   },
   "outputs": [],
   "source": []
  }
 ],
 "metadata": {
  "anaconda-cloud": {},
  "kernelspec": {
   "display_name": "Python [Root]",
   "language": "python",
   "name": "Python [Root]"
  },
  "language_info": {
   "codemirror_mode": {
    "name": "ipython",
    "version": 2
   },
   "file_extension": ".py",
   "mimetype": "text/x-python",
   "name": "python",
   "nbconvert_exporter": "python",
   "pygments_lexer": "ipython2",
   "version": "2.7.12"
  }
 },
 "nbformat": 4,
 "nbformat_minor": 0
}
